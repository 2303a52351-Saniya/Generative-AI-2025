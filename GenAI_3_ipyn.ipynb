{
  "nbformat": 4,
  "nbformat_minor": 0,
  "metadata": {
    "colab": {
      "provenance": [],
      "authorship_tag": "ABX9TyNz/KA+ahEkCPk1TEBkO0GP",
      "include_colab_link": true
    },
    "kernelspec": {
      "name": "python3",
      "display_name": "Python 3"
    },
    "language_info": {
      "name": "python"
    }
  },
  "cells": [
    {
      "cell_type": "markdown",
      "metadata": {
        "id": "view-in-github",
        "colab_type": "text"
      },
      "source": [
        "<a href=\"https://colab.research.google.com/github/2303a52351-Saniya/Generative-AI-2025/blob/main/GenAI_3_ipyn.ipynb\" target=\"_parent\"><img src=\"https://colab.research.google.com/assets/colab-badge.svg\" alt=\"Open In Colab\"/></a>"
      ]
    },
    {
      "cell_type": "markdown",
      "source": [
        "ASSIGNMENT-3\n",
        "1."
      ],
      "metadata": {
        "id": "OmEVj2u3BpY3"
      }
    },
    {
      "cell_type": "code",
      "execution_count": 2,
      "metadata": {
        "colab": {
          "base_uri": "https://localhost:8080/"
        },
        "id": "m8uKzdnTBoHH",
        "outputId": "8dd9c640-f7c1-4005-d53d-07185e7bc15d"
      },
      "outputs": [
        {
          "output_type": "stream",
          "name": "stdout",
          "text": [
            "Minimum value of x: 1.533312316799942e-07\n"
          ]
        }
      ],
      "source": [
        "# Parameters\n",
        "learning_rate = 0.01\n",
        "tolerance = 1e-6\n",
        "max_iterations = 10000\n",
        "\n",
        "# Initial guess\n",
        "x = 0.5\n",
        "\n",
        "# Gradient descent loop\n",
        "for i in range(max_iterations):\n",
        "    gradient = 20 * x**3 + 6 * x  # Derivative of f(x)\n",
        "    x -= learning_rate * gradient\n",
        "\n",
        "    if abs(gradient) < tolerance:\n",
        "        break\n",
        "\n",
        "print(\"Minimum value of x:\", x)\n"
      ]
    },
    {
      "cell_type": "markdown",
      "source": [
        "2."
      ],
      "metadata": {
        "id": "jhoUZk6ECL7T"
      }
    },
    {
      "cell_type": "code",
      "source": [
        "# Parameters\n",
        "learning_rate = 0.01\n",
        "tolerance = 1e-6\n",
        "max_iterations = 10000\n",
        "\n",
        "# Initial guesses\n",
        "x, y = 0.5, 0.5\n",
        "\n",
        "# Gradient descent loop\n",
        "for i in range(max_iterations):\n",
        "    grad_x = 6 * x                      # ∂g/∂x\n",
        "    grad_y = -5 * (2.71828 ** -y)       # ∂g/∂y (approximation of e^-y)\n",
        "\n",
        "    x -= learning_rate * grad_x\n",
        "    y -= learning_rate * grad_y\n",
        "\n",
        "    if abs(grad_x) < tolerance and abs(grad_y) < tolerance:\n",
        "        break\n",
        "\n",
        "print(\"Minimum values: x =\", x, \", y =\", y)\n"
      ],
      "metadata": {
        "colab": {
          "base_uri": "https://localhost:8080/"
        },
        "id": "llOcvlWYCNQa",
        "outputId": "ea3e4a18-00a4-43db-bcf5-287effe1463f"
      },
      "execution_count": 3,
      "outputs": [
        {
          "output_type": "stream",
          "name": "stdout",
          "text": [
            "Minimum values: x = 9.495241201637587e-270 , y = 6.218189064258974\n"
          ]
        }
      ]
    },
    {
      "cell_type": "markdown",
      "source": [
        "3."
      ],
      "metadata": {
        "id": "4UHHnu1ICy0Q"
      }
    },
    {
      "cell_type": "code",
      "source": [
        "# Parameters\n",
        "learning_rate = 0.1\n",
        "tolerance = 1e-6\n",
        "max_iterations = 10000\n",
        "\n",
        "# Initial guess\n",
        "x = 0.0\n",
        "\n",
        "# Gradient descent loop\n",
        "for i in range(max_iterations):\n",
        "    sigmoid = 1 / (1 + 2.71828**(-x))   # Sigmoid function\n",
        "    gradient = sigmoid * (1 - sigmoid)  # Derivative of sigmoid\n",
        "\n",
        "    x -= learning_rate * gradient\n",
        "\n",
        "    if abs(gradient) < tolerance:\n",
        "        break\n",
        "\n",
        "print(\"Sigmoid minimum x (moves towards -inf):\", x)\n"
      ],
      "metadata": {
        "colab": {
          "base_uri": "https://localhost:8080/"
        },
        "id": "JsRH9WibCz_g",
        "outputId": "18e21508-8a09-44e6-b932-98e479109a8b"
      },
      "execution_count": 4,
      "outputs": [
        {
          "output_type": "stream",
          "name": "stdout",
          "text": [
            "Sigmoid minimum x (moves towards -inf): -6.894155465024975\n"
          ]
        }
      ]
    },
    {
      "cell_type": "markdown",
      "source": [
        "4."
      ],
      "metadata": {
        "id": "1pQBRhwIDJ2Z"
      }
    },
    {
      "cell_type": "code",
      "source": [
        "# Parameters\n",
        "learning_rate = 0.01\n",
        "tolerance = 1e-6\n",
        "max_iterations = 10000\n",
        "\n",
        "# Example data\n",
        "x_data = [1, 2, 3, 4, 5]\n",
        "y_expected = [2, 4, 6, 8, 10]  # Example expected output (y = 2x)\n",
        "\n",
        "# Initial model parameters\n",
        "M, C = 0.0, 0.0\n",
        "\n",
        "# Gradient descent loop\n",
        "for i in range(max_iterations):\n",
        "    grad_M = 0.0\n",
        "    grad_C = 0.0\n",
        "\n",
        "    # Calculate gradients\n",
        "    for x, y in zip(x_data, y_expected):\n",
        "        y_pred = M * x + C\n",
        "        error = y - y_pred\n",
        "        grad_M += -2 * x * error\n",
        "        grad_C += -2 * error\n",
        "\n",
        "    grad_M /= len(x_data)\n",
        "    grad_C /= len(x_data)\n",
        "\n",
        "    M -= learning_rate * grad_M\n",
        "    C -= learning_rate * grad_C\n",
        "\n",
        "    if abs(grad_M) < tolerance and abs(grad_C) < tolerance:\n",
        "        break\n",
        "\n",
        "print(\"Optimal M:\", M, \"Optimal C:\", C)\n"
      ],
      "metadata": {
        "colab": {
          "base_uri": "https://localhost:8080/"
        },
        "id": "vtjYdvMUDLPN",
        "outputId": "0b04fbaf-26a4-4359-959d-e10474ac4b73"
      },
      "execution_count": 5,
      "outputs": [
        {
          "output_type": "stream",
          "name": "stdout",
          "text": [
            "Optimal M: 1.999999183736383 Optimal C: 2.9469706566045547e-06\n"
          ]
        }
      ]
    }
  ]
}