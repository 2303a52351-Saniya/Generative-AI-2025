{
  "nbformat": 4,
  "nbformat_minor": 0,
  "metadata": {
    "colab": {
      "provenance": [],
      "authorship_tag": "ABX9TyM5iEIAkgVleq2G20K+AVu3",
      "include_colab_link": true
    },
    "kernelspec": {
      "name": "python3",
      "display_name": "Python 3"
    },
    "language_info": {
      "name": "python"
    }
  },
  "cells": [
    {
      "cell_type": "markdown",
      "metadata": {
        "id": "view-in-github",
        "colab_type": "text"
      },
      "source": [
        "<a href=\"https://colab.research.google.com/github/2303a52351-Saniya/Generative-AI-2025/blob/main/Gen_AI_4.ipynb\" target=\"_parent\"><img src=\"https://colab.research.google.com/assets/colab-badge.svg\" alt=\"Open In Colab\"/></a>"
      ]
    },
    {
      "cell_type": "markdown",
      "source": [
        "ASSIGNMENT-04\n",
        "\n",
        "1."
      ],
      "metadata": {
        "id": "cVUBMdbtEuTp"
      }
    },
    {
      "cell_type": "code",
      "execution_count": 2,
      "metadata": {
        "colab": {
          "base_uri": "https://localhost:8080/"
        },
        "id": "xG0MQl_WEiEP",
        "outputId": "362b2833-9dd6-4bc9-9e2a-691d34f8ef38"
      },
      "outputs": [
        {
          "output_type": "stream",
          "name": "stdout",
          "text": [
            "Epoch 0, MSE: 0.03135\n",
            "Epoch 100, MSE: 0.00510\n",
            "Epoch 200, MSE: 0.00466\n",
            "Epoch 300, MSE: 0.00431\n",
            "Epoch 400, MSE: 0.00401\n",
            "Epoch 500, MSE: 0.00374\n",
            "Epoch 600, MSE: 0.00350\n",
            "Epoch 700, MSE: 0.00330\n",
            "Epoch 800, MSE: 0.00311\n",
            "Epoch 900, MSE: 0.00295\n",
            "\n",
            "Training MSE: 0.002811694039280577\n",
            "Testing MSE: 0.0005500744281963731\n",
            "Enter x1, x2, x3 separated by spaces: 0.6 0.7 0.8\n",
            "Predicted output: 0.4674668436505033\n"
          ]
        }
      ],
      "source": [
        "import numpy as np\n",
        "\n",
        "# Training and test data\n",
        "X_train = np.array([\n",
        "    [0.1, 0.2, 0.3],\n",
        "    [0.2, 0.3, 0.4],\n",
        "    [0.3, 0.4, 0.5],\n",
        "    [0.5, 0.6, 0.7],\n",
        "    [0.1, 0.3, 0.5],\n",
        "    [0.2, 0.4, 0.6],\n",
        "    [0.3, 0.5, 0.7],\n",
        "    [0.4, 0.6, 0.8],\n",
        "    [0.5, 0.7, 0.1]\n",
        "])\n",
        "y_train = np.array([0.14, 0.20, 0.26, 0.38, 0.22, 0.28, 0.34, 0.40, 0.22])\n",
        "\n",
        "X_test = np.array([\n",
        "    [0.6, 0.7, 0.8],\n",
        "    [0.7, 0.8, 0.9]\n",
        "])\n",
        "y_test = np.array([0.44, 0.50])\n",
        "\n",
        "# Parameters\n",
        "learning_rate = 0.01\n",
        "epochs = 1000\n",
        "\n",
        "# Initialize weights and bias\n",
        "weights = np.random.randn(3)\n",
        "bias = np.random.randn()\n",
        "\n",
        "# Training loop\n",
        "for epoch in range(epochs):\n",
        "    predictions = np.dot(X_train, weights) + bias\n",
        "    error = predictions - y_train\n",
        "\n",
        "    # MSE calculation\n",
        "    mse = np.mean(error**2)\n",
        "\n",
        "    # Gradient Descent\n",
        "    gradient_weights = (2 / len(X_train)) * np.dot(X_train.T, error)\n",
        "    gradient_bias = (2 / len(X_train)) * np.sum(error)\n",
        "\n",
        "    weights -= learning_rate * gradient_weights\n",
        "    bias -= learning_rate * gradient_bias\n",
        "\n",
        "    if epoch % 100 == 0:\n",
        "        print(f'Epoch {epoch}, MSE: {mse:.5f}')\n",
        "\n",
        "# Evaluate the model\n",
        "test_predictions = np.dot(X_test, weights) + bias\n",
        "test_error = test_predictions - y_test\n",
        "test_mse = np.mean(test_error**2)\n",
        "\n",
        "print(\"\\nTraining MSE:\", mse)\n",
        "print(\"Testing MSE:\", test_mse)\n",
        "\n",
        "# User input prediction\n",
        "x_input = np.array([float(i) for i in input(\"Enter x1, x2, x3 separated by spaces: \").split()])\n",
        "user_prediction = np.dot(x_input, weights) + bias\n",
        "print(\"Predicted output:\", user_prediction)\n"
      ]
    },
    {
      "cell_type": "markdown",
      "source": [
        "2."
      ],
      "metadata": {
        "id": "ZorUuDnWFtWj"
      }
    },
    {
      "cell_type": "code",
      "source": [
        "import numpy as np\n",
        "\n",
        "# Sigmoid function and derivative\n",
        "def sigmoid(x):\n",
        "    return 1 / (1 + np.exp(-x))\n",
        "\n",
        "def sigmoid_derivative(x):\n",
        "    return sigmoid(x) * (1 - sigmoid(x))\n",
        "\n",
        "# Training and test data\n",
        "X_train = np.array([\n",
        "    [0.1, 0.2, 0.3],\n",
        "    [0.2, 0.3, 0.4],\n",
        "    [0.3, 0.4, 0.5],\n",
        "    [0.5, 0.6, 0.7],\n",
        "    [0.1, 0.3, 0.5],\n",
        "    [0.2, 0.4, 0.6],\n",
        "    [0.3, 0.5, 0.7],\n",
        "    [0.4, 0.6, 0.8],\n",
        "    [0.5, 0.7, 0.1]\n",
        "])\n",
        "y_train = np.array([0.5349, 0.5498, 0.5646, 0.5939, 0.5548, 0.5695, 0.5842, 0.5987, 0.5548])\n",
        "\n",
        "X_test = np.array([\n",
        "    [0.6, 0.7, 0.8],\n",
        "    [0.7, 0.8, 0.9]\n",
        "])\n",
        "y_test = np.array([0.6083, 0.6225])\n",
        "\n",
        "# Parameters\n",
        "learning_rate = 0.1\n",
        "epochs = 1000\n",
        "\n",
        "# Initialize weights and bias\n",
        "weights = np.random.randn(3)\n",
        "bias = np.random.randn()\n",
        "\n",
        "# Training loop\n",
        "for epoch in range(epochs):\n",
        "    # Forward pass\n",
        "    linear_output = np.dot(X_train, weights) + bias\n",
        "    predictions = sigmoid(linear_output)\n",
        "\n",
        "    # Error\n",
        "    error = predictions - y_train\n",
        "    mse = np.mean(error**2)\n",
        "\n",
        "    # Backpropagation\n",
        "    d_output = error * sigmoid_derivative(linear_output)\n",
        "    gradient_weights = np.dot(X_train.T, d_output) / len(X_train)\n",
        "    gradient_bias = np.mean(d_output)\n",
        "\n",
        "    # Update weights and bias\n",
        "    weights -= learning_rate * gradient_weights\n",
        "    bias -= learning_rate * gradient_bias\n",
        "\n",
        "    if epoch % 100 == 0:\n",
        "        print(f'Epoch {epoch}, MSE: {mse:.5f}')\n",
        "\n",
        "# Testing\n",
        "test_predictions = sigmoid(np.dot(X_test, weights) + bias)\n",
        "test_mse = np.mean((test_predictions - y_test)**2)\n",
        "\n",
        "print(\"\\nTraining MSE:\", mse)\n",
        "print(\"Testing MSE:\", test_mse)\n",
        "\n",
        "# User input prediction\n",
        "x_input = np.array([float(i) for i in input(\"Enter x1, x2, x3 separated by spaces: \").split()])\n",
        "user_prediction = sigmoid(np.dot(x_input, weights) + bias)\n",
        "print(\"Predicted output:\", user_prediction)\n"
      ],
      "metadata": {
        "colab": {
          "base_uri": "https://localhost:8080/"
        },
        "id": "JztRo0TfFufS",
        "outputId": "ae95de36-1208-46a0-c5cb-d4428832c9d2"
      },
      "execution_count": 3,
      "outputs": [
        {
          "output_type": "stream",
          "name": "stdout",
          "text": [
            "Epoch 0, MSE: 0.02939\n",
            "Epoch 100, MSE: 0.00736\n",
            "Epoch 200, MSE: 0.00364\n",
            "Epoch 300, MSE: 0.00294\n",
            "Epoch 400, MSE: 0.00273\n",
            "Epoch 500, MSE: 0.00260\n",
            "Epoch 600, MSE: 0.00250\n",
            "Epoch 700, MSE: 0.00240\n",
            "Epoch 800, MSE: 0.00231\n",
            "Epoch 900, MSE: 0.00222\n",
            "\n",
            "Training MSE: 0.0021318406798490033\n",
            "Testing MSE: 0.005011828551949061\n",
            "Enter x1, x2, x3 separated by spaces: 0.6 0.7 0.8\n",
            "Predicted output: 0.6690469478206231\n"
          ]
        }
      ]
    }
  ]
}