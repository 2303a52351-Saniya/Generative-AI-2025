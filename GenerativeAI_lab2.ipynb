{
  "nbformat": 4,
  "nbformat_minor": 0,
  "metadata": {
    "colab": {
      "provenance": [],
      "authorship_tag": "ABX9TyMmwVcGSi8uBlfPcEe8B0/4",
      "include_colab_link": true
    },
    "kernelspec": {
      "name": "python3",
      "display_name": "Python 3"
    },
    "language_info": {
      "name": "python"
    }
  },
  "cells": [
    {
      "cell_type": "markdown",
      "metadata": {
        "id": "view-in-github",
        "colab_type": "text"
      },
      "source": [
        "<a href=\"https://colab.research.google.com/github/2303a52351-Saniya/Generative-AI-2025/blob/main/GenerativeAI_lab2.ipynb\" target=\"_parent\"><img src=\"https://colab.research.google.com/assets/colab-badge.svg\" alt=\"Open In Colab\"/></a>"
      ]
    },
    {
      "cell_type": "markdown",
      "source": [
        "LAB ASSIGNMENT-2:\n",
        "1."
      ],
      "metadata": {
        "id": "26LdzmuhmY5B"
      }
    },
    {
      "cell_type": "code",
      "execution_count": 2,
      "metadata": {
        "colab": {
          "base_uri": "https://localhost:8080/"
        },
        "id": "vuxtXtSoh79c",
        "outputId": "1347a47c-9a6e-4a24-b3dc-e529095af32b"
      },
      "outputs": [
        {
          "output_type": "stream",
          "name": "stdout",
          "text": [
            "Optimal A: 2.00, Optimal B: 3.00, Maximum Profit: Rs. 27.00\n"
          ]
        }
      ],
      "source": [
        "from scipy.optimize import linprog\n",
        "c = [-6, -5]\n",
        "\n",
        "A = [[1, 1],\n",
        "     [3, 2]]\n",
        "b = [5, 12]\n",
        "\n",
        "bounds = [(0, None), (0, None)]  # x >= 0, y >= 0\n",
        "\n",
        "result = linprog(c, A_ub=A, b_ub=b, bounds=bounds, method='highs')\n",
        "\n",
        "if result.success:\n",
        "    print(f\"Optimal A: {result.x[0]:.2f}, Optimal B: {result.x[1]:.2f}, Maximum Profit: Rs. {-result.fun:.2f}\")\n",
        "else:\n",
        "    print(\"Optimization failed.\")\n"
      ]
    },
    {
      "cell_type": "markdown",
      "source": [
        "2."
      ],
      "metadata": {
        "id": "xpWijSyJmijg"
      }
    },
    {
      "cell_type": "code",
      "source": [
        "pip install pulp"
      ],
      "metadata": {
        "colab": {
          "base_uri": "https://localhost:8080/"
        },
        "id": "WzNdUA2amj1A",
        "outputId": "eb1e23af-b08c-48eb-ddb4-f989e3e0f027"
      },
      "execution_count": 7,
      "outputs": [
        {
          "output_type": "stream",
          "name": "stdout",
          "text": [
            "Collecting pulp\n",
            "  Downloading PuLP-2.9.0-py3-none-any.whl.metadata (5.4 kB)\n",
            "Downloading PuLP-2.9.0-py3-none-any.whl (17.7 MB)\n",
            "\u001b[2K   \u001b[90m━━━━━━━━━━━━━━━━━━━━━━━━━━━━━━━━━━━━━━━━\u001b[0m \u001b[32m17.7/17.7 MB\u001b[0m \u001b[31m51.8 MB/s\u001b[0m eta \u001b[36m0:00:00\u001b[0m\n",
            "\u001b[?25hInstalling collected packages: pulp\n",
            "Successfully installed pulp-2.9.0\n"
          ]
        }
      ]
    },
    {
      "cell_type": "code",
      "source": [
        "from pulp import LpMaximize, LpProblem, LpVariable\n",
        "\n",
        "model = LpProblem(name=\"maximize_profit\", sense=LpMaximize)\n",
        "\n",
        "x1 = LpVariable(name=\"Wheat_hectares\", lowBound=0)  # x1 >= 0\n",
        "x2 = LpVariable(name=\"Barley_hectares\", lowBound=0)  # x2 >= 0\n",
        "\n",
        "model += 50 * x1 + 120 * x2, \"Total_Profit\"\n",
        "\n",
        "model += 7000 * x1 + 2000 * x2 <= 700000, \"Budget_Constraint\"\n",
        "model += 10 * x1 + 30 * x2 <= 1200, \"Labor_Constraint\"\n",
        "model += x1 + x2 <= 110, \"Land_Constraint\"\n",
        "\n",
        "\n",
        "status = model.solve()\n",
        "\n",
        "\n",
        "print(f\"Status: {model.status}, {model.status}\")\n",
        "print(f\"Optimal Allocation:\")\n",
        "print(f\"  Wheat (x1): {x1.value()} hectares\")\n",
        "print(f\"  Barley (x2): {x2.value()} hectares\")\n",
        "print(f\"Maximum Profit: Rs. {model.objective.value()}\")"
      ],
      "metadata": {
        "colab": {
          "base_uri": "https://localhost:8080/"
        },
        "id": "S7LwVbeTomNX",
        "outputId": "cb0b511d-29ea-4e97-819a-100a2de5ed84"
      },
      "execution_count": 9,
      "outputs": [
        {
          "output_type": "stream",
          "name": "stdout",
          "text": [
            "Status: 1, 1\n",
            "Optimal Allocation:\n",
            "  Wheat (x1): 97.894737 hectares\n",
            "  Barley (x2): 7.3684211 hectares\n",
            "Maximum Profit: Rs. 5778.947382\n"
          ]
        }
      ]
    }
  ]
}